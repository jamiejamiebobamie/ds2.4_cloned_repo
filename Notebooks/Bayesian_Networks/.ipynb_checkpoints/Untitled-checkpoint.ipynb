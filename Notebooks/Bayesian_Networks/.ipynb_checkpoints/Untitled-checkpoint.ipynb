{
 "cells": [
  {
   "cell_type": "markdown",
   "metadata": {},
   "source": [
    "# Bayesian Network\n",
    "\n",
    "- Structured, graphical representation of probabilistic relationships between features\n",
    "\n",
    "- Features are considered as Random Variables (RVS)\n",
    "\n",
    "- We are interested to answer some question like: `P(lung cancer=yes | smoking=no, positive X-ray=yes ) = ?`\n",
    "\n",
    "<img src=\"Bayesian_Network.png\" width=\"600\" height=\"600\">"
   ]
  },
  {
   "cell_type": "markdown",
   "metadata": {},
   "source": [
    "## Generally:\n",
    "```\n",
    "P(S, C, B, X, D) = P(D | S, C, B, X) P(S, C, B, X)\n",
    "\n",
    "                 = P(D | S, C, B, X) P(X| S, C, B) P(S, C, B)\n",
    "                 \n",
    "                 = P(D | S, C, B, X) P(X| S, C, B) P(B| S, C) P(S, C)\n",
    "                 \n",
    "                 = P(D | S, C, B, X) P(X| S, C, B) P(B| S, C)P(C | S) p(S)```\n",
    "                    \n"
   ]
  },
  {
   "cell_type": "markdown",
   "metadata": {},
   "source": [
    "```\n",
    "P(S, C, B, X, D) = P(S) P(C | S) P(B| S, C) P(X|S,C,B) p(D|S,C,B,X)\n",
    "\n",
    "```\n",
    "\n",
    "We say `P(B| S, C) = P(B| S)` or B $\\perp$ C | S\n",
    "\n"
   ]
  },
  {
   "cell_type": "markdown",
   "metadata": {},
   "source": [
    "## Bayesian Network for Student Data\n",
    "\n",
    "- Probabilistic Graphical Model has two major types: Bayesian Networks and Markov Networks\n",
    "\n",
    "<img src=\"Student_Bayesian_Network.png\" width=\"600\" height=\"600\">"
   ]
  },
  {
   "cell_type": "markdown",
   "metadata": {},
   "source": [
    "# Notation Explanation:\n",
    "\n",
    "- $g^0$: Good Grade\n",
    "- $g^1$: Normal Grade\n",
    "- $g^2$: Bad Grade\n",
    "\n",
    "- $l^0$: Not Recommended\n",
    "- $l^1$: Recommended"
   ]
  },
  {
   "cell_type": "markdown",
   "metadata": {},
   "source": [
    "## Questions:\n",
    "\n",
    "1- What is the probability that students get Good Grade in this class? -> $P(G=g^0)$\n",
    "\n",
    "Hint: $P(G=g^0) =$\n",
    "\n",
    "$P(G=g^0 | D = d^0, I=i^0)p(D = d^0)p(I=i^0) + $\n",
    "\n",
    "$P(G=g^0 | D = d^1, I=i^0)p(D = d^1)p(I=i^0) + $\n",
    "                  \n",
    "$P(G=g^0 | D = d^0, I=i^1)p(D = d^0)p(I=i^1) + $\n",
    "                  \n",
    "$P(G=g^0 | D = d^1, I=i^1)p(D = d^1)p(I=i^1)$\n",
    "\n",
    "2- $P(G | D= d^0, I = i^1)$\n",
    "\n",
    "3- $P(G = g^0| I = i^1)$"
   ]
  },
  {
   "cell_type": "code",
   "execution_count": null,
   "metadata": {},
   "outputs": [],
   "source": [
    "from pgmpy.models import BayesianModel\n",
    "from pgmpy.factors.discrete import TabularCPD\n",
    "from pgmpy.inference import VariableElimination\n",
    "student_model = BayesianModel([('D', 'G'), ('I', 'G'), ('G', 'L'), ('I', 'S')])\n",
    "grade_cpd = TabularCPD(variable='G', variable_card=3,\n",
    "                        values=[[0.3, 0.05, 0.9, 0.5],\n",
    "                        [0.4, 0.25, 0.08, 0.3],\n",
    "                        [0.3, 0.7, 0.02, 0.2]],\n",
    "                        evidence=['I', 'D'],\n",
    "                        evidence_card=[2, 2])\n",
    "difficulty_cpd = TabularCPD(\n",
    "                            variable='D',\n",
    "                            variable_card=2,\n",
    "                            values=[[0.6, 0.4]])\n",
    "intel_cpd = TabularCPD(\n",
    "                        variable='I',\n",
    "                        variable_card=2,\n",
    "                        values=[[0.7, 0.3]])\n",
    "letter_cpd = TabularCPD(\n",
    "                        variable='L',\n",
    "                        variable_card=2,\n",
    "                        values=[[0.1, 0.4, 0.99],\n",
    "                        [0.9, 0.6, 0.01]],\n",
    "                        evidence=['G'],\n",
    "                        evidence_card=[3])\n",
    "sat_cpd = TabularCPD(\n",
    "                        variable='S',\n",
    "                        variable_card=2,\n",
    "                        values=[[0.95, 0.2],\n",
    "                        [0.05, 0.8]],\n",
    "                        evidence=['I'],\n",
    "                        evidence_card=[2])\n",
    "student_model.add_cpds(grade_cpd, difficulty_cpd,\n",
    "intel_cpd, letter_cpd,\n",
    "sat_cpd)\n",
    "print(student_model.get_independencies())\n",
    "student_infer = VariableElimination(student_model)\n",
    "prob_G = student_infer.query(variables=['G'])\n",
    "print(prob_G['G'])\n",
    "prob_G = student_infer.query(variables=['G'], evidence={'I': 1, 'D': 0})\n",
    "print(prob_G['G'])\n",
    "prob_G = student_infer.query(variables=['G'], evidence={'I': 1})\n",
    "print(prob_G['G'])"
   ]
  },
  {
   "cell_type": "code",
   "execution_count": null,
   "metadata": {},
   "outputs": [],
   "source": [
    "## Applications:\n",
    "\n"
   ]
  }
 ],
 "metadata": {
  "kernelspec": {
   "display_name": "Python 3",
   "language": "python",
   "name": "python3"
  },
  "language_info": {
   "codemirror_mode": {
    "name": "ipython",
    "version": 3
   },
   "file_extension": ".py",
   "mimetype": "text/x-python",
   "name": "python",
   "nbconvert_exporter": "python",
   "pygments_lexer": "ipython3",
   "version": "3.6.5"
  }
 },
 "nbformat": 4,
 "nbformat_minor": 2
}
