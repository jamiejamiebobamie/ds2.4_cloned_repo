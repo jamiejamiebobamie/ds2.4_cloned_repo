{
 "cells": [
  {
   "cell_type": "markdown",
   "metadata": {},
   "source": [
    "# Recommender Systems (RS):\n",
    "\n",
    "- We can use deep learning to predict rating for users based on the items\n",
    "\n",
    "- We use the Movielens-100k dataset for illustration. There are 943 users and 1682 movies. In total there are a 100k ratings in the dataset."
   ]
  },
  {
   "cell_type": "code",
   "execution_count": 2,
   "metadata": {},
   "outputs": [
    {
     "name": "stderr",
     "output_type": "stream",
     "text": [
      "/Users/miladtoutounchian/anaconda3/lib/python3.6/site-packages/ipykernel_launcher.py:5: ParserWarning: Falling back to the 'python' engine because the 'c' engine does not support regex separators (separators > 1 char and different from '\\s+' are interpreted as regex); you can avoid this warning by specifying engine='python'.\n",
      "  \"\"\"\n"
     ]
    }
   ],
   "source": [
    "import pandas as pd\n",
    "import numpy as np\n",
    "\n",
    "u_cols = ['user_id', 'sex', 'age', 'occupation', 'zip_code']\n",
    "users = pd.read_csv('./Movie_Lens/users.dat', sep='::', names=u_cols, encoding='latin-1')"
   ]
  },
  {
   "cell_type": "code",
   "execution_count": 15,
   "metadata": {},
   "outputs": [
    {
     "name": "stdout",
     "output_type": "stream",
     "text": [
      "   user_id sex  age  occupation zip_code\n",
      "0        1   F    1          10    48067\n",
      "1        2   M   56          16    70072\n",
      "2        3   M   25          15    55117\n",
      "3        4   M   45           7    02460\n",
      "4        5   M   25          20    55455\n"
     ]
    }
   ],
   "source": [
    "print(users.head())"
   ]
  },
  {
   "cell_type": "code",
   "execution_count": 17,
   "metadata": {},
   "outputs": [
    {
     "name": "stderr",
     "output_type": "stream",
     "text": [
      "/Users/miladtoutounchian/anaconda3/lib/python3.6/site-packages/ipykernel_launcher.py:2: ParserWarning: Falling back to the 'python' engine because the 'c' engine does not support regex separators (separators > 1 char and different from '\\s+' are interpreted as regex); you can avoid this warning by specifying engine='python'.\n",
      "  \n"
     ]
    }
   ],
   "source": [
    "r_cols = ['user_id', 'movie_id', 'rating', 'unix_timestamp']\n",
    "ratings = pd.read_csv('./Movie_Lens/ratings.dat', sep='::', names=r_cols, encoding='latin-1')"
   ]
  },
  {
   "cell_type": "code",
   "execution_count": 18,
   "metadata": {},
   "outputs": [
    {
     "name": "stdout",
     "output_type": "stream",
     "text": [
      "   user_id  movie_id  rating  unix_timestamp\n",
      "0        1      1193       5       978300760\n",
      "1        1       661       3       978302109\n",
      "2        1       914       3       978301968\n",
      "3        1      3408       4       978300275\n",
      "4        1      2355       5       978824291\n"
     ]
    }
   ],
   "source": [
    "print(ratings.head())"
   ]
  },
  {
   "cell_type": "code",
   "execution_count": 23,
   "metadata": {},
   "outputs": [
    {
     "name": "stderr",
     "output_type": "stream",
     "text": [
      "/Users/miladtoutounchian/anaconda3/lib/python3.6/site-packages/ipykernel_launcher.py:2: ParserWarning: Falling back to the 'python' engine because the 'c' engine does not support regex separators (separators > 1 char and different from '\\s+' are interpreted as regex); you can avoid this warning by specifying engine='python'.\n",
      "  \n"
     ]
    }
   ],
   "source": [
    "m_cols = ['movie_id', 'title', 'Genre']\n",
    "movies = pd.read_csv('./Movie_Lens/movies.dat', sep='::', names=m_cols, usecols=range(5), encoding='latin-1')"
   ]
  },
  {
   "cell_type": "code",
   "execution_count": 24,
   "metadata": {},
   "outputs": [
    {
     "name": "stdout",
     "output_type": "stream",
     "text": [
      "   movie_id                               title                         Genre\n",
      "0         1                    Toy Story (1995)   Animation|Children's|Comedy\n",
      "1         2                      Jumanji (1995)  Adventure|Children's|Fantasy\n",
      "2         3             Grumpier Old Men (1995)                Comedy|Romance\n",
      "3         4            Waiting to Exhale (1995)                  Comedy|Drama\n",
      "4         5  Father of the Bride Part II (1995)                        Comedy\n"
     ]
    }
   ],
   "source": [
    "print(movies.head())"
   ]
  },
  {
   "cell_type": "code",
   "execution_count": 29,
   "metadata": {},
   "outputs": [
    {
     "name": "stdout",
     "output_type": "stream",
     "text": [
      "   user_id  movie_id  rating\n",
      "0        1         1       5\n",
      "1        1        48       5\n",
      "2        1       150       5\n",
      "3        1       260       4\n",
      "4        1       527       5\n"
     ]
    }
   ],
   "source": [
    "movie_ratings = pd.merge(movies, ratings)\n",
    "lens = pd.merge(movie_ratings, users)\n",
    "\n",
    "dataset = lens[['user_id', 'movie_id', 'rating']]\n",
    "\n",
    "print(dataset.head())"
   ]
  },
  {
   "cell_type": "code",
   "execution_count": 30,
   "metadata": {},
   "outputs": [
    {
     "name": "stdout",
     "output_type": "stream",
     "text": [
      "(1000209, 3)\n"
     ]
    }
   ],
   "source": [
    "print(dataset.shape)"
   ]
  },
  {
   "cell_type": "code",
   "execution_count": 34,
   "metadata": {},
   "outputs": [
    {
     "name": "stdout",
     "output_type": "stream",
     "text": [
      "6040\n"
     ]
    }
   ],
   "source": [
    "print(dataset['user_id'].nunique())"
   ]
  },
  {
   "cell_type": "code",
   "execution_count": 35,
   "metadata": {},
   "outputs": [
    {
     "name": "stdout",
     "output_type": "stream",
     "text": [
      "3706\n"
     ]
    }
   ],
   "source": [
    "print(dataset['movie_id'].nunique())"
   ]
  },
  {
   "cell_type": "markdown",
   "metadata": {},
   "source": [
    "## Dataset"
   ]
  },
  {
   "cell_type": "code",
   "execution_count": 3,
   "metadata": {},
   "outputs": [],
   "source": [
    "dataset = pd.read_csv(\"./ml-100k/u.data\",sep='\\t',names=\"user_id,item_id,rating,timestamp\".split(\",\"))"
   ]
  },
  {
   "cell_type": "code",
   "execution_count": 38,
   "metadata": {},
   "outputs": [
    {
     "name": "stdout",
     "output_type": "stream",
     "text": [
      "   user_id  item_id  rating  timestamp\n",
      "0      196      242       3  881250949\n",
      "1      186      302       3  891717742\n",
      "2       22      377       1  878887116\n",
      "3      244       51       2  880606923\n",
      "4      166      346       1  886397596\n"
     ]
    }
   ],
   "source": [
    "print(dataset.head())"
   ]
  },
  {
   "cell_type": "code",
   "execution_count": 4,
   "metadata": {},
   "outputs": [
    {
     "name": "stdout",
     "output_type": "stream",
     "text": [
      "943\n"
     ]
    }
   ],
   "source": [
    "print(dataset['user_id'].nunique())"
   ]
  },
  {
   "cell_type": "code",
   "execution_count": 5,
   "metadata": {},
   "outputs": [
    {
     "name": "stdout",
     "output_type": "stream",
     "text": [
      "1682\n"
     ]
    }
   ],
   "source": [
    "print(dataset['item_id'].nunique())"
   ]
  },
  {
   "cell_type": "code",
   "execution_count": 6,
   "metadata": {},
   "outputs": [
    {
     "name": "stderr",
     "output_type": "stream",
     "text": [
      "/Users/miladtoutounchian/anaconda3/lib/python3.6/site-packages/h5py/__init__.py:36: FutureWarning: Conversion of the second argument of issubdtype from `float` to `np.floating` is deprecated. In future, it will be treated as `np.float64 == np.dtype(float).type`.\n",
      "  from ._conv import register_converters as _register_converters\n",
      "Using TensorFlow backend.\n"
     ]
    },
    {
     "name": "stdout",
     "output_type": "stream",
     "text": [
      "Epoch 1/100\n",
      "80000/80000 [==============================] - 2s 20us/step - loss: 12.1125 - acc: 0.0073\n",
      "Epoch 2/100\n",
      "80000/80000 [==============================] - 1s 19us/step - loss: 4.5957 - acc: 0.1435\n",
      "Epoch 3/100\n",
      "80000/80000 [==============================] - 1s 19us/step - loss: 1.9397 - acc: 0.2968\n",
      "Epoch 4/100\n",
      "80000/80000 [==============================] - 1s 19us/step - loss: 1.3165 - acc: 0.3580\n",
      "Epoch 5/100\n",
      "80000/80000 [==============================] - 2s 19us/step - loss: 1.0851 - acc: 0.3897\n",
      "Epoch 6/100\n",
      "80000/80000 [==============================] - 2s 19us/step - loss: 0.9851 - acc: 0.4043\n",
      "Epoch 7/100\n",
      "80000/80000 [==============================] - 2s 19us/step - loss: 0.9375 - acc: 0.4104\n",
      "Epoch 8/100\n",
      "80000/80000 [==============================] - 2s 20us/step - loss: 0.9117 - acc: 0.4145\n",
      "Epoch 9/100\n",
      "80000/80000 [==============================] - 2s 19us/step - loss: 0.8975 - acc: 0.4157\n",
      "Epoch 10/100\n",
      "80000/80000 [==============================] - 2s 19us/step - loss: 0.8878 - acc: 0.4166\n",
      "Epoch 11/100\n",
      "80000/80000 [==============================] - 2s 19us/step - loss: 0.8818 - acc: 0.4180\n",
      "Epoch 12/100\n",
      "80000/80000 [==============================] - 2s 19us/step - loss: 0.8768 - acc: 0.4186\n",
      "Epoch 13/100\n",
      "80000/80000 [==============================] - 2s 19us/step - loss: 0.8733 - acc: 0.4180\n",
      "Epoch 14/100\n",
      "80000/80000 [==============================] - 2s 19us/step - loss: 0.8705 - acc: 0.4190\n",
      "Epoch 15/100\n",
      "80000/80000 [==============================] - 2s 19us/step - loss: 0.8680 - acc: 0.4183\n",
      "Epoch 16/100\n",
      "80000/80000 [==============================] - 2s 22us/step - loss: 0.8670 - acc: 0.4195\n",
      "Epoch 17/100\n",
      "80000/80000 [==============================] - 2s 20us/step - loss: 0.8648 - acc: 0.4203\n",
      "Epoch 18/100\n",
      "80000/80000 [==============================] - 2s 19us/step - loss: 0.8631 - acc: 0.4198\n",
      "Epoch 19/100\n",
      "80000/80000 [==============================] - 2s 19us/step - loss: 0.8615 - acc: 0.4195\n",
      "Epoch 20/100\n",
      "80000/80000 [==============================] - 2s 19us/step - loss: 0.8601 - acc: 0.4205\n",
      "Epoch 21/100\n",
      "80000/80000 [==============================] - 2s 20us/step - loss: 0.8581 - acc: 0.4200\n",
      "Epoch 22/100\n",
      "80000/80000 [==============================] - 2s 19us/step - loss: 0.8567 - acc: 0.4217\n",
      "Epoch 23/100\n",
      "80000/80000 [==============================] - 2s 19us/step - loss: 0.8548 - acc: 0.4221\n",
      "Epoch 24/100\n",
      "80000/80000 [==============================] - 2s 19us/step - loss: 0.8525 - acc: 0.4224\n",
      "Epoch 25/100\n",
      "80000/80000 [==============================] - 2s 19us/step - loss: 0.8499 - acc: 0.4234\n",
      "Epoch 26/100\n",
      "80000/80000 [==============================] - 2s 19us/step - loss: 0.8470 - acc: 0.4242\n",
      "Epoch 27/100\n",
      "80000/80000 [==============================] - 2s 19us/step - loss: 0.8440 - acc: 0.4241\n",
      "Epoch 28/100\n",
      "80000/80000 [==============================] - 2s 19us/step - loss: 0.8404 - acc: 0.4246\n",
      "Epoch 29/100\n",
      "80000/80000 [==============================] - 2s 19us/step - loss: 0.8359 - acc: 0.4264\n",
      "Epoch 30/100\n",
      "80000/80000 [==============================] - 2s 19us/step - loss: 0.8313 - acc: 0.4271\n",
      "Epoch 31/100\n",
      "80000/80000 [==============================] - 2s 19us/step - loss: 0.8267 - acc: 0.4288\n",
      "Epoch 32/100\n",
      "80000/80000 [==============================] - 2s 19us/step - loss: 0.8214 - acc: 0.4311\n",
      "Epoch 33/100\n",
      "80000/80000 [==============================] - 2s 19us/step - loss: 0.8164 - acc: 0.4319\n",
      "Epoch 34/100\n",
      "80000/80000 [==============================] - 2s 19us/step - loss: 0.8113 - acc: 0.4338\n",
      "Epoch 35/100\n",
      "80000/80000 [==============================] - 2s 19us/step - loss: 0.8063 - acc: 0.4357\n",
      "Epoch 36/100\n",
      "80000/80000 [==============================] - 2s 19us/step - loss: 0.8014 - acc: 0.4363\n",
      "Epoch 37/100\n",
      "80000/80000 [==============================] - 2s 19us/step - loss: 0.7971 - acc: 0.4362\n",
      "Epoch 38/100\n",
      "80000/80000 [==============================] - 2s 19us/step - loss: 0.7925 - acc: 0.4397\n",
      "Epoch 39/100\n",
      "80000/80000 [==============================] - 2s 19us/step - loss: 0.7885 - acc: 0.4415\n",
      "Epoch 40/100\n",
      "80000/80000 [==============================] - 2s 20us/step - loss: 0.7853 - acc: 0.4421\n",
      "Epoch 41/100\n",
      "80000/80000 [==============================] - 2s 20us/step - loss: 0.7814 - acc: 0.4418\n",
      "Epoch 42/100\n",
      "80000/80000 [==============================] - 2s 19us/step - loss: 0.7786 - acc: 0.4437\n",
      "Epoch 43/100\n",
      "80000/80000 [==============================] - 2s 19us/step - loss: 0.7754 - acc: 0.4441\n",
      "Epoch 44/100\n",
      "80000/80000 [==============================] - 1s 19us/step - loss: 0.7724 - acc: 0.4461\n",
      "Epoch 45/100\n",
      "80000/80000 [==============================] - 1s 19us/step - loss: 0.7697 - acc: 0.4465\n",
      "Epoch 46/100\n",
      "80000/80000 [==============================] - 1s 18us/step - loss: 0.7673 - acc: 0.4470\n",
      "Epoch 47/100\n",
      "80000/80000 [==============================] - 1s 18us/step - loss: 0.7647 - acc: 0.4493\n",
      "Epoch 48/100\n",
      "80000/80000 [==============================] - 1s 18us/step - loss: 0.7622 - acc: 0.4496\n",
      "Epoch 49/100\n",
      "80000/80000 [==============================] - 1s 18us/step - loss: 0.7601 - acc: 0.4498\n",
      "Epoch 50/100\n",
      "80000/80000 [==============================] - 1s 18us/step - loss: 0.7584 - acc: 0.4513\n",
      "Epoch 51/100\n",
      "80000/80000 [==============================] - 1s 18us/step - loss: 0.7559 - acc: 0.4525\n",
      "Epoch 52/100\n",
      "80000/80000 [==============================] - 1s 18us/step - loss: 0.7541 - acc: 0.4530\n",
      "Epoch 53/100\n",
      "80000/80000 [==============================] - 1s 18us/step - loss: 0.7522 - acc: 0.4532\n",
      "Epoch 54/100\n",
      "80000/80000 [==============================] - 1s 18us/step - loss: 0.7506 - acc: 0.4546\n",
      "Epoch 55/100\n",
      "80000/80000 [==============================] - 2s 19us/step - loss: 0.7492 - acc: 0.4550\n",
      "Epoch 56/100\n",
      "80000/80000 [==============================] - 2s 20us/step - loss: 0.7478 - acc: 0.4551\n",
      "Epoch 57/100\n",
      "80000/80000 [==============================] - 2s 21us/step - loss: 0.7464 - acc: 0.4560\n",
      "Epoch 58/100\n",
      "80000/80000 [==============================] - 2s 21us/step - loss: 0.7448 - acc: 0.4553\n",
      "Epoch 59/100\n",
      "80000/80000 [==============================] - 2s 21us/step - loss: 0.7435 - acc: 0.4573\n",
      "Epoch 60/100\n",
      "80000/80000 [==============================] - 2s 22us/step - loss: 0.7423 - acc: 0.4568\n",
      "Epoch 61/100\n",
      "80000/80000 [==============================] - 2s 22us/step - loss: 0.7412 - acc: 0.4583\n",
      "Epoch 62/100\n",
      "80000/80000 [==============================] - 2s 22us/step - loss: 0.7401 - acc: 0.4588\n",
      "Epoch 63/100\n",
      "80000/80000 [==============================] - 2s 23us/step - loss: 0.7391 - acc: 0.4586\n",
      "Epoch 64/100\n",
      "80000/80000 [==============================] - 2s 24us/step - loss: 0.7379 - acc: 0.4579\n",
      "Epoch 65/100\n",
      "80000/80000 [==============================] - 2s 24us/step - loss: 0.7367 - acc: 0.4590\n",
      "Epoch 66/100\n",
      "80000/80000 [==============================] - 2s 24us/step - loss: 0.7362 - acc: 0.4598\n",
      "Epoch 67/100\n",
      "80000/80000 [==============================] - 2s 24us/step - loss: 0.7350 - acc: 0.4590\n",
      "Epoch 68/100\n",
      "80000/80000 [==============================] - 2s 25us/step - loss: 0.7342 - acc: 0.4590\n",
      "Epoch 69/100\n",
      "80000/80000 [==============================] - 2s 24us/step - loss: 0.7333 - acc: 0.4598\n",
      "Epoch 70/100\n",
      "80000/80000 [==============================] - 2s 24us/step - loss: 0.7327 - acc: 0.4614\n",
      "Epoch 71/100\n",
      "80000/80000 [==============================] - 2s 24us/step - loss: 0.7316 - acc: 0.4604\n",
      "Epoch 72/100\n",
      "80000/80000 [==============================] - 2s 24us/step - loss: 0.7308 - acc: 0.4614\n",
      "Epoch 73/100\n",
      "80000/80000 [==============================] - 2s 25us/step - loss: 0.7301 - acc: 0.4610\n",
      "Epoch 74/100\n",
      "80000/80000 [==============================] - 2s 23us/step - loss: 0.7296 - acc: 0.4623\n",
      "Epoch 75/100\n",
      "80000/80000 [==============================] - 2s 23us/step - loss: 0.7288 - acc: 0.4621\n",
      "Epoch 76/100\n",
      "80000/80000 [==============================] - 2s 23us/step - loss: 0.7284 - acc: 0.4612\n",
      "Epoch 77/100\n",
      "80000/80000 [==============================] - 2s 23us/step - loss: 0.7272 - acc: 0.4627\n",
      "Epoch 78/100\n",
      "80000/80000 [==============================] - 2s 22us/step - loss: 0.7270 - acc: 0.4624\n",
      "Epoch 79/100\n",
      "80000/80000 [==============================] - 2s 23us/step - loss: 0.7262 - acc: 0.4617\n",
      "Epoch 80/100\n",
      "80000/80000 [==============================] - 2s 23us/step - loss: 0.7255 - acc: 0.4615\n",
      "Epoch 81/100\n",
      "80000/80000 [==============================] - 2s 22us/step - loss: 0.7252 - acc: 0.4629\n",
      "Epoch 82/100\n",
      "80000/80000 [==============================] - 2s 21us/step - loss: 0.7247 - acc: 0.4624\n",
      "Epoch 83/100\n",
      "80000/80000 [==============================] - 2s 21us/step - loss: 0.7239 - acc: 0.4634\n",
      "Epoch 84/100\n",
      "80000/80000 [==============================] - 2s 21us/step - loss: 0.7235 - acc: 0.4640\n",
      "Epoch 85/100\n",
      "80000/80000 [==============================] - 2s 20us/step - loss: 0.7229 - acc: 0.4633\n",
      "Epoch 86/100\n",
      "80000/80000 [==============================] - 2s 21us/step - loss: 0.7223 - acc: 0.4633\n",
      "Epoch 87/100\n",
      "80000/80000 [==============================] - 2s 21us/step - loss: 0.7219 - acc: 0.4636\n",
      "Epoch 88/100\n",
      "80000/80000 [==============================] - 2s 21us/step - loss: 0.7215 - acc: 0.4626\n",
      "Epoch 89/100\n",
      "80000/80000 [==============================] - 2s 21us/step - loss: 0.7208 - acc: 0.4639\n",
      "Epoch 90/100\n",
      "80000/80000 [==============================] - 2s 21us/step - loss: 0.7209 - acc: 0.4637\n",
      "Epoch 91/100\n",
      "80000/80000 [==============================] - 2s 21us/step - loss: 0.7200 - acc: 0.4643\n",
      "Epoch 92/100\n",
      "80000/80000 [==============================] - 2s 20us/step - loss: 0.7197 - acc: 0.4633\n",
      "Epoch 93/100\n",
      "80000/80000 [==============================] - 2s 20us/step - loss: 0.7195 - acc: 0.4650\n",
      "Epoch 94/100\n",
      "80000/80000 [==============================] - 2s 20us/step - loss: 0.7191 - acc: 0.4635\n",
      "Epoch 95/100\n",
      "80000/80000 [==============================] - 2s 20us/step - loss: 0.7184 - acc: 0.4641\n",
      "Epoch 96/100\n",
      "80000/80000 [==============================] - 2s 20us/step - loss: 0.7185 - acc: 0.4642\n",
      "Epoch 97/100\n",
      "80000/80000 [==============================] - 2s 20us/step - loss: 0.7178 - acc: 0.4646\n",
      "Epoch 98/100\n",
      "80000/80000 [==============================] - 2s 20us/step - loss: 0.7179 - acc: 0.4650\n",
      "Epoch 99/100\n",
      "80000/80000 [==============================] - 2s 20us/step - loss: 0.7170 - acc: 0.4646\n",
      "Epoch 100/100\n",
      "80000/80000 [==============================] - 2s 20us/step - loss: 0.7171 - acc: 0.4650\n"
     ]
    }
   ],
   "source": [
    "import keras\n",
    "from keras.models import Sequential\n",
    "from keras.optimizers import Adam\n",
    "from sklearn.model_selection import train_test_split\n",
    "train, test = train_test_split(dataset, test_size=0.2)\n",
    "\n",
    "n_users, n_movies = len(dataset.user_id.unique()), len(dataset.item_id.unique())\n",
    "n_latent_factors = 3\n",
    "\n",
    "movie_input = keras.layers.Input(shape=[1],name='Item')\n",
    "movie_embedding = keras.layers.Embedding(n_movies + 1, n_latent_factors, name='Movie-Embedding')(movie_input)\n",
    "movie_vec = keras.layers.Flatten(name='FlattenMovies')(movie_embedding)\n",
    "\n",
    "user_input = keras.layers.Input(shape=[1],name='User')\n",
    "user_vec = keras.layers.Flatten(name='FlattenUsers')(keras.layers.Embedding(n_users + 1, n_latent_factors,name='User-Embedding')(user_input))\n",
    "\n",
    "prod = keras.layers.dot([movie_vec, user_vec], axes = -1, name='DotProduct', normalize=False)\n",
    "model = keras.models.Model([user_input, movie_input], prod)\n",
    "model.compile(optimizer='adam', loss='mean_squared_error', metrics=['accuracy'])\n",
    "\n",
    "history = model.fit([train.user_id, train.item_id], train.rating, epochs=100, verbose=1)\n",
    "\n",
    "y_hat = model.predict([test.user_id, test.item_id])\n",
    "y_true = test.rating"
   ]
  },
  {
   "cell_type": "code",
   "execution_count": 7,
   "metadata": {},
   "outputs": [
    {
     "data": {
      "text/plain": [
       "0.7311717652906896"
      ]
     },
     "execution_count": 7,
     "metadata": {},
     "output_type": "execute_result"
    }
   ],
   "source": [
    "from sklearn.metrics import mean_absolute_error\n",
    "mean_absolute_error(y_true, y_hat)"
   ]
  },
  {
   "cell_type": "code",
   "execution_count": 8,
   "metadata": {},
   "outputs": [
    {
     "data": {
      "text/plain": [
       "0.8773522383374458"
      ]
     },
     "execution_count": 8,
     "metadata": {},
     "output_type": "execute_result"
    }
   ],
   "source": [
    "from sklearn.metrics import mean_squared_error\n",
    "mean_squared_error(y_true, y_hat)"
   ]
  },
  {
   "cell_type": "code",
   "execution_count": 29,
   "metadata": {},
   "outputs": [
    {
     "data": {
      "text/plain": [
       "0.3033334205107707"
      ]
     },
     "execution_count": 29,
     "metadata": {},
     "output_type": "execute_result"
    }
   ],
   "source": [
    "from sklearn.metrics import r2_score\n",
    "r2_score(y_true, y_hat)"
   ]
  },
  {
   "cell_type": "code",
   "execution_count": 10,
   "metadata": {},
   "outputs": [
    {
     "name": "stdout",
     "output_type": "stream",
     "text": [
      "20000\n"
     ]
    },
    {
     "data": {
      "text/plain": [
       "[<matplotlib.lines.Line2D at 0x1a2be50ef0>]"
      ]
     },
     "execution_count": 10,
     "metadata": {},
     "output_type": "execute_result"
    },
    {
     "data": {
      "image/png": "[encoded data removed]",
      "text/plain": [
       "<Figure size 432x288 with 1 Axes>"
      ]
     },
     "metadata": {},
     "output_type": "display_data"
    }
   ],
   "source": [
    "import matplotlib.pyplot as plt\n",
    "print(len(y_hat))\n",
    "plt.plot(range(len(y_hat)), y_hat)"
   ]
  },
  {
   "cell_type": "code",
   "execution_count": 19,
   "metadata": {},
   "outputs": [
    {
     "name": "stdout",
     "output_type": "stream",
     "text": [
      "[(4.1810427, 5), (3.7510118, 5), (3.3734493, 2), (3.791001, 3), (4.206919, 5), (3.2825694, 4), (1.7857158, 4), (4.0701256, 4), (4.1192484, 4), (3.445529, 3), (3.4736178, 4), (4.0720267, 5), (4.1486635, 5), (2.9359403, 2), (3.4940045, 4), (3.5713542, 5), (1.2732297, 2), (4.4180975, 5), (3.3769302, 3), (2.5889719, 2)]\n"
     ]
    }
   ],
   "source": [
    "print([(i, j) for (i, j) in zip(y_hat.ravel()[:20], y_true.ravel()[:20])])"
   ]
  },
  {
   "cell_type": "code",
   "execution_count": 27,
   "metadata": {},
   "outputs": [
    {
     "data": {
      "text/plain": [
       "405"
      ]
     },
     "execution_count": 27,
     "metadata": {},
     "output_type": "execute_result"
    }
   ],
   "source": [
    "train.user_id.values[0]"
   ]
  },
  {
   "cell_type": "code",
   "execution_count": 62,
   "metadata": {},
   "outputs": [
    {
     "data": {
      "text/html": [
       "<div>\n",
       "<style scoped>\n",
       "    .dataframe tbody tr th:only-of-type {\n",
       "        vertical-align: middle;\n",
       "    }\n",
       "\n",
       "    .dataframe tbody tr th {\n",
       "        vertical-align: top;\n",
       "    }\n",
       "\n",
       "    .dataframe thead th {\n",
       "        text-align: right;\n",
       "    }\n",
       "</style>\n",
       "<table border=\"1\" class=\"dataframe\">\n",
       "  <thead>\n",
       "    <tr style=\"text-align: right;\">\n",
       "      <th></th>\n",
       "      <th>0</th>\n",
       "      <th>1</th>\n",
       "      <th>2</th>\n",
       "    </tr>\n",
       "  </thead>\n",
       "  <tbody>\n",
       "    <tr>\n",
       "      <th>count</th>\n",
       "      <td>1683.000000</td>\n",
       "      <td>1683.000000</td>\n",
       "      <td>1683.000000</td>\n",
       "    </tr>\n",
       "    <tr>\n",
       "      <th>mean</th>\n",
       "      <td>0.966648</td>\n",
       "      <td>-0.919319</td>\n",
       "      <td>0.863690</td>\n",
       "    </tr>\n",
       "    <tr>\n",
       "      <th>std</th>\n",
       "      <td>0.437029</td>\n",
       "      <td>0.595531</td>\n",
       "      <td>0.467666</td>\n",
       "    </tr>\n",
       "    <tr>\n",
       "      <th>min</th>\n",
       "      <td>-0.826557</td>\n",
       "      <td>-3.698236</td>\n",
       "      <td>-0.893432</td>\n",
       "    </tr>\n",
       "    <tr>\n",
       "      <th>25%</th>\n",
       "      <td>0.669403</td>\n",
       "      <td>-1.374091</td>\n",
       "      <td>0.543034</td>\n",
       "    </tr>\n",
       "    <tr>\n",
       "      <th>50%</th>\n",
       "      <td>0.986767</td>\n",
       "      <td>-0.938171</td>\n",
       "      <td>0.853226</td>\n",
       "    </tr>\n",
       "    <tr>\n",
       "      <th>75%</th>\n",
       "      <td>1.254426</td>\n",
       "      <td>-0.479760</td>\n",
       "      <td>1.189773</td>\n",
       "    </tr>\n",
       "    <tr>\n",
       "      <th>max</th>\n",
       "      <td>2.585588</td>\n",
       "      <td>0.943812</td>\n",
       "      <td>2.546664</td>\n",
       "    </tr>\n",
       "  </tbody>\n",
       "</table>\n",
       "</div>"
      ],
      "text/plain": [
       "                 0            1            2\n",
       "count  1683.000000  1683.000000  1683.000000\n",
       "mean      0.966648    -0.919319     0.863690\n",
       "std       0.437029     0.595531     0.467666\n",
       "min      -0.826557    -3.698236    -0.893432\n",
       "25%       0.669403    -1.374091     0.543034\n",
       "50%       0.986767    -0.938171     0.853226\n",
       "75%       1.254426    -0.479760     1.189773\n",
       "max       2.585588     0.943812     2.546664"
      ]
     },
     "execution_count": 62,
     "metadata": {},
     "output_type": "execute_result"
    }
   ],
   "source": [
    "movie_embedding_learnt = model.get_layer(name='Movie-Embedding').get_weights()[0]\n",
    "pd.DataFrame(movie_embedding_learnt).describe()"
   ]
  },
  {
   "cell_type": "code",
   "execution_count": 63,
   "metadata": {},
   "outputs": [
    {
     "data": {
      "text/html": [
       "<div>\n",
       "<style scoped>\n",
       "    .dataframe tbody tr th:only-of-type {\n",
       "        vertical-align: middle;\n",
       "    }\n",
       "\n",
       "    .dataframe tbody tr th {\n",
       "        vertical-align: top;\n",
       "    }\n",
       "\n",
       "    .dataframe thead th {\n",
       "        text-align: right;\n",
       "    }\n",
       "</style>\n",
       "<table border=\"1\" class=\"dataframe\">\n",
       "  <thead>\n",
       "    <tr style=\"text-align: right;\">\n",
       "      <th></th>\n",
       "      <th>0</th>\n",
       "      <th>1</th>\n",
       "      <th>2</th>\n",
       "    </tr>\n",
       "  </thead>\n",
       "  <tbody>\n",
       "    <tr>\n",
       "      <th>count</th>\n",
       "      <td>944.000000</td>\n",
       "      <td>944.000000</td>\n",
       "      <td>944.000000</td>\n",
       "    </tr>\n",
       "    <tr>\n",
       "      <th>mean</th>\n",
       "      <td>1.107262</td>\n",
       "      <td>-1.108085</td>\n",
       "      <td>1.168447</td>\n",
       "    </tr>\n",
       "    <tr>\n",
       "      <th>std</th>\n",
       "      <td>0.542848</td>\n",
       "      <td>0.566582</td>\n",
       "      <td>0.434296</td>\n",
       "    </tr>\n",
       "    <tr>\n",
       "      <th>min</th>\n",
       "      <td>-1.155398</td>\n",
       "      <td>-2.504371</td>\n",
       "      <td>-0.698575</td>\n",
       "    </tr>\n",
       "    <tr>\n",
       "      <th>25%</th>\n",
       "      <td>0.756104</td>\n",
       "      <td>-1.505675</td>\n",
       "      <td>0.913075</td>\n",
       "    </tr>\n",
       "    <tr>\n",
       "      <th>50%</th>\n",
       "      <td>1.093890</td>\n",
       "      <td>-1.167027</td>\n",
       "      <td>1.184544</td>\n",
       "    </tr>\n",
       "    <tr>\n",
       "      <th>75%</th>\n",
       "      <td>1.452147</td>\n",
       "      <td>-0.781497</td>\n",
       "      <td>1.469406</td>\n",
       "    </tr>\n",
       "    <tr>\n",
       "      <th>max</th>\n",
       "      <td>3.098990</td>\n",
       "      <td>1.435501</td>\n",
       "      <td>2.481169</td>\n",
       "    </tr>\n",
       "  </tbody>\n",
       "</table>\n",
       "</div>"
      ],
      "text/plain": [
       "                0           1           2\n",
       "count  944.000000  944.000000  944.000000\n",
       "mean     1.107262   -1.108085    1.168447\n",
       "std      0.542848    0.566582    0.434296\n",
       "min     -1.155398   -2.504371   -0.698575\n",
       "25%      0.756104   -1.505675    0.913075\n",
       "50%      1.093890   -1.167027    1.184544\n",
       "75%      1.452147   -0.781497    1.469406\n",
       "max      3.098990    1.435501    2.481169"
      ]
     },
     "execution_count": 63,
     "metadata": {},
     "output_type": "execute_result"
    }
   ],
   "source": [
    "user_embedding_learnt = model.get_layer(name='User-Embedding').get_weights()[0]\n",
    "pd.DataFrame(user_embedding_learnt).describe()"
   ]
  },
  {
   "cell_type": "markdown",
   "metadata": {},
   "source": [
    "## Next Item Prediction\n",
    "\n",
    "- In online transactions or groceries transactions, people **do not** purchase 5 simiar items\n",
    "\n",
    "- However, they buy the items that are related somehow into each other\n",
    "\n",
    "- For example, a shoper wants to make Spaghetti at home, so he/she buy: Pasta -> Tomato Sauce -> Mushroom -> Parsley "
   ]
  },
  {
   "cell_type": "markdown",
   "metadata": {},
   "source": [
    "## MLP for next item prediction"
   ]
  },
  {
   "cell_type": "code",
   "execution_count": null,
   "metadata": {},
   "outputs": [],
   "source": [
    "# LSTM with Variable Length Input Sequences to One Character Output\n",
    "import numpy\n",
    "from keras.models import Sequential\n",
    "from keras.layers import Dense\n",
    "from keras.layers import LSTM\n",
    "from keras.utils import np_utils\n",
    "from keras.preprocessing.sequence import pad_sequences\n",
    "# fix random seed for reproducibility\n",
    "numpy.random.seed(7)\n",
    "# define the raw dataset\n",
    "alphabet = \"ABCDEFGHIJKLMNOPQRSTUVWXYZ\"\n",
    "# create mapping of characters to integers (0-25) and the reverse\n",
    "char_to_int = dict((c, i) for i, c in enumerate(alphabet))\n",
    "int_to_char = dict((i, c) for i, c in enumerate(alphabet))\n",
    "# prepare the dataset of input to output pairs encoded as integers\n",
    "num_inputs = 1000\n",
    "max_len = 5\n",
    "dataX = []\n",
    "dataY = []\n",
    "for i in range(num_inputs):\n",
    "    start = numpy.random.randint(len(alphabet)-2)\n",
    "    end = numpy.random.randint(start, min(start+max_len,len(alphabet)-1))\n",
    "    sequence_in = alphabet[start:end+1]\n",
    "    sequence_out = alphabet[end + 1]\n",
    "    dataX.append([char_to_int[char] for char in sequence_in])\n",
    "    dataY.append(char_to_int[sequence_out])\n",
    "    print(sequence_in, '->', sequence_out)\n",
    "# convert list of lists to array and pad sequences if needed\n",
    "X = pad_sequences(dataX, maxlen=max_len, dtype='float32')\n",
    "# reshape X to be [samples, time steps, features]\n",
    "# X = numpy.reshape(X, (X.shape[0], max_len, 1))\n",
    "# normalize\n",
    "X = X / float(len(alphabet))\n",
    "print(X)\n",
    "# one hot encode the output variable\n",
    "y = np_utils.to_categorical(dataY)\n",
    "print(X.shape)\n",
    "print(y.shape[1])\n",
    "# print(y)\n",
    "# create and fit the model\n",
    "batch_size = 10\n",
    "model = Sequential()\n",
    "model.add(Dense(32, input_shape=(max_len, )))\n",
    "model.add(Dense(y.shape[1], activation='softmax'))\n",
    "model.compile(loss='categorical_crossentropy', optimizer='adam', metrics=['accuracy'])\n",
    "model.fit(X, y, epochs=500, batch_size=batch_size, verbose=1)\n",
    "# summarize performance of the model\n",
    "scores = model.evaluate(X, y, verbose=0)\n",
    "print(\"Model Accuracy: %.2f%%\" % (scores[1]*100))\n",
    "# demonstrate some model predictions\n",
    "for i in range(20):\n",
    "    pattern_index = numpy.random.randint(len(dataX))\n",
    "    pattern = dataX[pattern_index]\n",
    "    x = pad_sequences([pattern], maxlen=max_len, dtype='float32')\n",
    "    # x = numpy.reshape(x, (1, max_len, 1))\n",
    "    x = x / float(len(alphabet))\n",
    "    prediction = model.predict(x, verbose=0)\n",
    "    index = numpy.argmax(prediction)\n",
    "    result = int_to_char[index]\n",
    "    seq_in = [int_to_char[value] for value in pattern]\n",
    "    print(seq_in, \"->\", result)"
   ]
  },
  {
   "cell_type": "markdown",
   "metadata": {},
   "source": [
    "#### MLP accuracy is 88.40%"
   ]
  },
  {
   "cell_type": "markdown",
   "metadata": {},
   "source": [
    "## LSTM for next item prediction"
   ]
  },
  {
   "cell_type": "code",
   "execution_count": null,
   "metadata": {},
   "outputs": [],
   "source": [
    "# LSTM with Variable Length Input Sequences to One Character Output\n",
    "import numpy\n",
    "from keras.models import Sequential\n",
    "from keras.layers import Dense\n",
    "from keras.layers import LSTM\n",
    "from keras.utils import np_utils\n",
    "from keras.preprocessing.sequence import pad_sequences\n",
    "# fix random seed for reproducibility\n",
    "numpy.random.seed(7)\n",
    "# define the raw dataset\n",
    "alphabet = \"ABCDEFGHIJKLMNOPQRSTUVWXYZ\"\n",
    "# create mapping of characters to integers (0-25) and the reverse\n",
    "char_to_int = dict((c, i) for i, c in enumerate(alphabet))\n",
    "int_to_char = dict((i, c) for i, c in enumerate(alphabet))\n",
    "# prepare the dataset of input to output pairs encoded as integers\n",
    "num_inputs = 1000\n",
    "max_len = 5\n",
    "dataX = []\n",
    "dataY = []\n",
    "for i in range(num_inputs):\n",
    "    start = numpy.random.randint(len(alphabet)-2)\n",
    "    end = numpy.random.randint(start, min(start+max_len,len(alphabet)-1))\n",
    "    sequence_in = alphabet[start:end+1]\n",
    "    sequence_out = alphabet[end + 1]\n",
    "    dataX.append([char_to_int[char] for char in sequence_in])\n",
    "    dataY.append(char_to_int[sequence_out])\n",
    "    print(sequence_in, '->', sequence_out)\n",
    "# convert list of lists to array and pad sequences if needed\n",
    "X = pad_sequences(dataX, maxlen=max_len, dtype='float32')\n",
    "# reshape X to be [samples, time steps, features]\n",
    "X = numpy.reshape(X, (X.shape[0], max_len, 1))\n",
    "# normalize\n",
    "X = X / float(len(alphabet))\n",
    "# one hot encode the output variable\n",
    "y = np_utils.to_categorical(dataY)\n",
    "print(X.shape)\n",
    "print(y.shape[1])\n",
    "# print(y)\n",
    "# create and fit the model\n",
    "batch_size = 10\n",
    "model = Sequential()\n",
    "model.add(LSTM(32, input_shape=(X.shape[1], 1)))\n",
    "model.add(Dense(y.shape[1], activation='softmax'))\n",
    "model.compile(loss='categorical_crossentropy', optimizer='adam', metrics=['accuracy'])\n",
    "model.fit(X, y, epochs=500, batch_size=batch_size, verbose=1)\n",
    "# summarize performance of the model\n",
    "scores = model.evaluate(X, y, verbose=0)\n",
    "print(\"Model Accuracy: %.2f%%\" % (scores[1]*100))\n",
    "# demonstrate some model predictions\n",
    "for i in range(20):\n",
    "    pattern_index = numpy.random.randint(len(dataX))\n",
    "    pattern = dataX[pattern_index]\n",
    "    x = pad_sequences([pattern], maxlen=max_len, dtype='float32')\n",
    "    x = numpy.reshape(x, (1, max_len, 1))\n",
    "    x = x / float(len(alphabet))\n",
    "    prediction = model.predict(x, verbose=0)\n",
    "    index = numpy.argmax(prediction)\n",
    "    result = int_to_char[index]\n",
    "    seq_in = [int_to_char[value] for value in pattern]\n",
    "    print(seq_in, \"->\", result)"
   ]
  },
  {
   "cell_type": "markdown",
   "metadata": {},
   "source": [
    "#### LSTM accuracy is 95.10%"
   ]
  },
  {
   "cell_type": "markdown",
   "metadata": {},
   "source": [
    "## Deep Learning for Temporal Recommendation\n",
    "\n",
    "- A novel deep neural network based architecture that models the combination of long-term static and short-term temporal user preferences to improve the recommendation performance\n",
    "\n",
    "- https://github.com/sonyisme/keras-recommendation"
   ]
  },
  {
   "cell_type": "markdown",
   "metadata": {},
   "source": [
    "## Deep Learning for Content-based Recommendation based on images\n",
    "\n",
    "- https://nycdatascience.com/blog/student-works/deep-learning-meets-recommendation-systems/"
   ]
  },
  {
   "cell_type": "code",
   "execution_count": null,
   "metadata": {},
   "outputs": [],
   "source": []
  }
 ],
 "metadata": {
  "kernelspec": {
   "display_name": "Python 3",
   "language": "python",
   "name": "python3"
  },
  "language_info": {
   "codemirror_mode": {
    "name": "ipython",
    "version": 3
   },
   "file_extension": ".py",
   "mimetype": "text/x-python",
   "name": "python",
   "nbconvert_exporter": "python",
   "pygments_lexer": "ipython3",
   "version": "3.6.5"
  }
 },
 "nbformat": 4,
 "nbformat_minor": 2
}
